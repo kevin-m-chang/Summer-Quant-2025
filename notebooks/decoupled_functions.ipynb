{
 "cells": [
  {
   "cell_type": "code",
   "execution_count": 3,
   "id": "e7d93d10",
   "metadata": {},
   "outputs": [
    {
     "name": "stdout",
     "output_type": "stream",
     "text": [
      "Channels:\n",
      " - defaults\n",
      "Platform: win-64\n",
      "Collecting package metadata (repodata.json): done\n",
      "Solving environment: done\n",
      "\n",
      "# All requested packages already installed.\n",
      "\n",
      "Collecting yfinance\n",
      "  Using cached yfinance-0.2.65-py2.py3-none-any.whl.metadata (5.8 kB)\n",
      "Requirement already satisfied: pandas>=1.3.0 in c:\\users\\kevin\\anaconda3\\lib\\site-packages (from yfinance) (2.2.3)\n",
      "Requirement already satisfied: numpy>=1.16.5 in c:\\users\\kevin\\anaconda3\\lib\\site-packages (from yfinance) (2.1.3)\n",
      "Requirement already satisfied: requests>=2.31 in c:\\users\\kevin\\anaconda3\\lib\\site-packages (from yfinance) (2.32.3)\n",
      "Collecting multitasking>=0.0.7 (from yfinance)\n",
      "  Using cached multitasking-0.0.11-py3-none-any.whl.metadata (5.5 kB)\n",
      "Requirement already satisfied: platformdirs>=2.0.0 in c:\\users\\kevin\\anaconda3\\lib\\site-packages (from yfinance) (4.3.7)\n",
      "Requirement already satisfied: pytz>=2022.5 in c:\\users\\kevin\\anaconda3\\lib\\site-packages (from yfinance) (2024.1)\n",
      "Requirement already satisfied: frozendict>=2.3.4 in c:\\users\\kevin\\anaconda3\\lib\\site-packages (from yfinance) (2.4.2)\n",
      "Collecting peewee>=3.16.2 (from yfinance)\n",
      "  Using cached peewee-3.18.2-py3-none-any.whl\n",
      "Requirement already satisfied: beautifulsoup4>=4.11.1 in c:\\users\\kevin\\anaconda3\\lib\\site-packages (from yfinance) (4.12.3)\n",
      "Collecting curl_cffi>=0.7 (from yfinance)\n",
      "  Using cached curl_cffi-0.11.4-cp39-abi3-win_amd64.whl.metadata (14 kB)\n",
      "Requirement already satisfied: protobuf>=3.19.0 in c:\\users\\kevin\\anaconda3\\lib\\site-packages (from yfinance) (5.29.3)\n",
      "Collecting websockets>=13.0 (from yfinance)\n",
      "  Using cached websockets-15.0.1-cp313-cp313-win_amd64.whl.metadata (7.0 kB)\n",
      "Requirement already satisfied: soupsieve>1.2 in c:\\users\\kevin\\anaconda3\\lib\\site-packages (from beautifulsoup4>=4.11.1->yfinance) (2.5)\n",
      "Requirement already satisfied: cffi>=1.12.0 in c:\\users\\kevin\\anaconda3\\lib\\site-packages (from curl_cffi>=0.7->yfinance) (1.17.1)\n",
      "Requirement already satisfied: certifi>=2024.2.2 in c:\\users\\kevin\\anaconda3\\lib\\site-packages (from curl_cffi>=0.7->yfinance) (2025.6.15)\n",
      "Requirement already satisfied: pycparser in c:\\users\\kevin\\anaconda3\\lib\\site-packages (from cffi>=1.12.0->curl_cffi>=0.7->yfinance) (2.21)\n",
      "Requirement already satisfied: python-dateutil>=2.8.2 in c:\\users\\kevin\\anaconda3\\lib\\site-packages (from pandas>=1.3.0->yfinance) (2.9.0.post0)\n",
      "Requirement already satisfied: tzdata>=2022.7 in c:\\users\\kevin\\anaconda3\\lib\\site-packages (from pandas>=1.3.0->yfinance) (2025.2)\n",
      "Requirement already satisfied: six>=1.5 in c:\\users\\kevin\\anaconda3\\lib\\site-packages (from python-dateutil>=2.8.2->pandas>=1.3.0->yfinance) (1.17.0)\n",
      "Requirement already satisfied: charset-normalizer<4,>=2 in c:\\users\\kevin\\anaconda3\\lib\\site-packages (from requests>=2.31->yfinance) (3.3.2)\n",
      "Requirement already satisfied: idna<4,>=2.5 in c:\\users\\kevin\\anaconda3\\lib\\site-packages (from requests>=2.31->yfinance) (3.7)\n",
      "Requirement already satisfied: urllib3<3,>=1.21.1 in c:\\users\\kevin\\anaconda3\\lib\\site-packages (from requests>=2.31->yfinance) (2.3.0)\n",
      "Using cached yfinance-0.2.65-py2.py3-none-any.whl (119 kB)\n",
      "Using cached curl_cffi-0.11.4-cp39-abi3-win_amd64.whl (1.6 MB)\n",
      "Using cached multitasking-0.0.11-py3-none-any.whl (8.5 kB)\n",
      "Using cached websockets-15.0.1-cp313-cp313-win_amd64.whl (176 kB)\n",
      "Installing collected packages: peewee, multitasking, websockets, curl_cffi, yfinance\n",
      "\n",
      "   ---------------------------------------- 0/5 [peewee]\n",
      "   ---------------- ----------------------- 2/5 [websockets]\n",
      "   ------------------------ --------------- 3/5 [curl_cffi]\n",
      "   -------------------------------- ------- 4/5 [yfinance]\n",
      "   ---------------------------------------- 5/5 [yfinance]\n",
      "\n",
      "Successfully installed curl_cffi-0.11.4 multitasking-0.0.11 peewee-3.18.2 websockets-15.0.1 yfinance-0.2.65\n",
      "Requirement already satisfied: polars-lts-cpu in c:\\users\\kevin\\anaconda3\\lib\\site-packages (1.31.0)\n",
      "Requirement already satisfied: py_vollib_vectorized in c:\\users\\kevin\\anaconda3\\lib\\site-packages (0.1.1)\n",
      "Requirement already satisfied: py-vollib>=1.0.1 in c:\\users\\kevin\\anaconda3\\lib\\site-packages (from py_vollib_vectorized) (1.0.1)\n",
      "Requirement already satisfied: numba>=0.51.0 in c:\\users\\kevin\\anaconda3\\lib\\site-packages (from py_vollib_vectorized) (0.61.0)\n",
      "Requirement already satisfied: py-lets-be-rational in c:\\users\\kevin\\anaconda3\\lib\\site-packages (from py_vollib_vectorized) (1.0.1)\n",
      "Requirement already satisfied: numpy in c:\\users\\kevin\\anaconda3\\lib\\site-packages (from py_vollib_vectorized) (2.1.3)\n",
      "Requirement already satisfied: pandas in c:\\users\\kevin\\anaconda3\\lib\\site-packages (from py_vollib_vectorized) (2.2.3)\n",
      "Requirement already satisfied: scipy in c:\\users\\kevin\\anaconda3\\lib\\site-packages (from py_vollib_vectorized) (1.15.3)\n",
      "Requirement already satisfied: llvmlite<0.45,>=0.44.0dev0 in c:\\users\\kevin\\anaconda3\\lib\\site-packages (from numba>=0.51.0->py_vollib_vectorized) (0.44.0)\n",
      "Requirement already satisfied: simplejson in c:\\users\\kevin\\anaconda3\\lib\\site-packages (from py-vollib>=1.0.1->py_vollib_vectorized) (3.20.1)\n",
      "Requirement already satisfied: python-dateutil>=2.8.2 in c:\\users\\kevin\\anaconda3\\lib\\site-packages (from pandas->py_vollib_vectorized) (2.9.0.post0)\n",
      "Requirement already satisfied: pytz>=2020.1 in c:\\users\\kevin\\anaconda3\\lib\\site-packages (from pandas->py_vollib_vectorized) (2024.1)\n",
      "Requirement already satisfied: tzdata>=2022.7 in c:\\users\\kevin\\anaconda3\\lib\\site-packages (from pandas->py_vollib_vectorized) (2025.2)\n",
      "Requirement already satisfied: six>=1.5 in c:\\users\\kevin\\anaconda3\\lib\\site-packages (from python-dateutil>=2.8.2->pandas->py_vollib_vectorized) (1.17.0)\n"
     ]
    },
    {
     "name": "stderr",
     "output_type": "stream",
     "text": [
      "ERROR: Invalid requirement: '#': Expected package name at the start of dependency specifier\n",
      "    #\n",
      "    ^\n"
     ]
    }
   ],
   "source": [
    "! conda install pyarrow joblib pandas numpy matplotlib seaborn scikit-learn\n",
    "! pip install yfinance\n",
    "! pip install polars-lts-cpu\n",
    "! pip install py_vollib_vectorized\n",
    "! pip install git+https://github.com/vollib/py_lets_be_rational.git # overwrite py_vollib_vectorized"
   ]
  },
  {
   "cell_type": "code",
   "execution_count": null,
   "id": "d8c5b696",
   "metadata": {},
   "outputs": [
    {
     "name": "stdout",
     "output_type": "stream",
     "text": [
      "✍️  wrote pre-filtered surface to C:\\Users\\kevin\\OneDrive\\Documents\\Draco\\data\\spxw_pre_filtered_parquet\n"
     ]
    }
   ],
   "source": [
    "from pathlib import Path\n",
    "\n",
    "RAW_CSV_PATH = r\"C:\\Users\\kevin\\OneDrive\\Documents\\Draco\\spxw_filtered\\*.csv\"\n",
    "raw_dir = Path(RAW_CSV_PATH).parent.parent / \"data\"\n",
    "\n",
    "PRE_FILTERED_DIR = raw_dir / \"spxw_pre_filtered_parquet\"\n",
    "SAMPLED_DIR = raw_dir / \"spxw_sampled_hybrid_parquet\"\n",
    "CALIBRATED_DIR = raw_dir / \"spxw_calibrated_parquet\"\n",
    "SURFACE_PNG_DIR = raw_dir / \"spxw_surface_png\"\n",
    "\n",
    "from pre_filter import pre_filter_options\n",
    "from partition_writer import parallel_sample\n",
    "import os\n",
    "\n",
    "# 1. Pre-filter Options Data\n",
    "pre_filter_options(\n",
    "    underlying       = \"SPXW\",\n",
    "    input_pattern    = RAW_CSV_PATH,\n",
    "    output_dir       = PRE_FILTERED_DIR,\n",
    "    min_window_start = 1,\n",
    "    min_T_days       = 7,\n",
    "    max_T_days       = 180,\n",
    "    min_price        = 0.1,\n",
    "    min_volume       = 5\n",
    ")\n",
    "\n",
    "# 2. Sample and write partitioned data\n",
    "parallel_sample(\n",
    "    input_dir  = Path(PRE_FILTERED_DIR),\n",
    "    output_dir = Path(SAMPLED_DIR),\n",
    "    n_jobs     = os.cpu_count(),\n",
    "    n_clusters = 200,\n",
    "    n_pca_extremes = 0,\n",
    "    atm_width  = 0.05,\n",
    "    atm_frac   = 0.20,\n",
    "    num_m_bins = 10,\n",
    "    random_state = 42\n",
    ")\n"
   ]
  },
  {
   "cell_type": "code",
   "execution_count": null,
   "id": "70cbf360",
   "metadata": {},
   "outputs": [],
   "source": [
    "from calibration import parallel_calibrate\n",
    "from pathlib import Path\n",
    "import os\n",
    "from datetime import datetime\n",
    "\n",
    "# 3. Calibrate Heston model for each date (run independently, can be resumed)\n",
    "# Specify date range as needed\n",
    "start_date = datetime(2024, 1, 2).date()\n",
    "end_date   = datetime(2024, 2, 1).date()\n",
    "\n",
    "parallel_calibrate(\n",
    "    input_dir  = Path(SAMPLED_DIR),\n",
    "    output_dir = Path(CALIBRATED_DIR),\n",
    "    n_jobs     = os.cpu_count(),\n",
    "    start_date = start_date,\n",
    "    end_date   = end_date\n",
    "    # Add calibration kwargs as needed\n",
    ")\n"
   ]
  },
  {
   "cell_type": "code",
   "execution_count": null,
   "id": "7b89355b",
   "metadata": {},
   "outputs": [],
   "source": [
    "from surface_plot import plot_surface_for_date\n",
    "from pathlib import Path\n",
    "from joblib import Parallel, delayed\n",
    "import os\n",
    "\n",
    "# 4. Plot IV surfaces for each calibrated date (run independently after calibration)\n",
    "calib_dir = Path(CALIBRATED_DIR)\n",
    "surface_dir = Path(SURFACE_PNG_DIR)\n",
    "all_dates = sorted(d.name.split(\"=\")[1] for d in calib_dir.glob(\"date=*\") if d.is_dir())\n",
    "results = Parallel(n_jobs=os.cpu_count(), verbose=5)(\n",
    "    delayed(plot_surface_for_date)(date, calib_dir, surface_dir) for date in all_dates\n",
    ")\n",
    "print(f\"[Surface] done: {sum(results)}/{len(all_dates)} succeeded\")\n"
   ]
  }
 ],
 "metadata": {
  "kernelspec": {
   "display_name": "base",
   "language": "python",
   "name": "python3"
  },
  "language_info": {
   "codemirror_mode": {
    "name": "ipython",
    "version": 3
   },
   "file_extension": ".py",
   "mimetype": "text/x-python",
   "name": "python",
   "nbconvert_exporter": "python",
   "pygments_lexer": "ipython3",
   "version": "3.13.5"
  }
 },
 "nbformat": 4,
 "nbformat_minor": 5
}
